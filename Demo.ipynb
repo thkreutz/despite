{
 "cells": [
  {
   "cell_type": "code",
   "execution_count": 1,
   "id": "73bc5647",
   "metadata": {
    "ExecuteTime": {
     "end_time": "2025-07-21T12:18:41.239487Z",
     "start_time": "2025-07-21T12:18:40.408523Z"
    }
   },
   "outputs": [],
   "source": [
    "from src.evaluation import matching\n",
    "from src.models import model_loader\n",
    "import pickle\n",
    "import numpy as np\n",
    "import torch\n",
    "import argparse\n",
    "import sys\n",
    "import os\n",
    "from src.models import SPITE\n",
    "model_type_to_modalities = {\n",
    "    \"S\" : \"SKELETON\",\n",
    "    \"I\" : \"IMU\",\n",
    "    \"P\" : \"PC\"\n",
    "}"
   ]
  },
  {
   "cell_type": "code",
   "execution_count": 2,
   "id": "ed7a9b22",
   "metadata": {
    "ExecuteTime": {
     "end_time": "2025-07-21T12:18:44.885977Z",
     "start_time": "2025-07-21T12:18:42.077494Z"
    }
   },
   "outputs": [
    {
     "name": "stdout",
     "output_type": "stream",
     "text": [
      "Loading data.\n"
     ]
    }
   ],
   "source": [
    "print(\"Loading data.\")\n",
    "path_to_dataset = \"/data/LIPD/LIPD_SEQUENCES_256p.pkl\"\n",
    "with open(path_to_dataset, 'rb') as f:\n",
    "    sequence_datasets = pickle.load(f)"
   ]
  },
  {
   "cell_type": "code",
   "execution_count": 12,
   "id": "4ef551c9",
   "metadata": {
    "ExecuteTime": {
     "end_time": "2025-07-21T12:21:32.759217Z",
     "start_time": "2025-07-21T12:21:32.756402Z"
    }
   },
   "outputs": [
    {
     "data": {
      "text/plain": [
       "dict_keys(['PCD', 'IMU', 'gt_joint', 'gt'])"
      ]
     },
     "execution_count": 12,
     "metadata": {},
     "output_type": "execute_result"
    }
   ],
   "source": [
    "sequence_datasets[\"eLIPD\"][\"923\"]['seq2'].keys()"
   ]
  },
  {
   "cell_type": "code",
   "execution_count": 15,
   "id": "b73e7cb1",
   "metadata": {
    "ExecuteTime": {
     "end_time": "2025-07-21T12:25:31.908974Z",
     "start_time": "2025-07-21T12:25:31.905770Z"
    }
   },
   "outputs": [
    {
     "data": {
      "text/plain": [
       "torch.Size([3951, 72])"
      ]
     },
     "execution_count": 15,
     "metadata": {},
     "output_type": "execute_result"
    }
   ],
   "source": [
    "sequence_datasets[\"eLIPD\"][\"923\"]['seq2'][\"gt_joint\"].shape"
   ]
  },
  {
   "cell_type": "code",
   "execution_count": 15,
   "id": "32534453",
   "metadata": {
    "ExecuteTime": {
     "end_time": "2025-07-19T16:12:23.386328Z",
     "start_time": "2025-07-19T16:12:23.382846Z"
    }
   },
   "outputs": [],
   "source": [
    "src_modality = \"IMU\"\n",
    "tgt_modality = \"PC\"\n",
    "embed_dim = 512\n",
    "num_joints = 24 # keep this the same because we have only one dataset.\n",
    "n_feats = 3 # keep this the same because we have only one dataset."
   ]
  },
  {
   "cell_type": "code",
   "execution_count": 11,
   "id": "163fa60e",
   "metadata": {
    "ExecuteTime": {
     "end_time": "2025-07-19T16:10:58.350291Z",
     "start_time": "2025-07-19T16:10:58.346067Z"
    }
   },
   "outputs": [],
   "source": [
    "model_type = \"SPIE\"\n",
    "modalities = [model_type_to_modalities[m].lower() for m in model_type if not m in [\"E\", \"T\"]]"
   ]
  },
  {
   "cell_type": "code",
   "execution_count": 16,
   "id": "0d59a224",
   "metadata": {
    "ExecuteTime": {
     "end_time": "2025-07-19T16:12:29.072009Z",
     "start_time": "2025-07-19T16:12:24.621271Z"
    }
   },
   "outputs": [
    {
     "name": "stdout",
     "output_type": "stream",
     "text": [
      "Loading class <class 'src.models.SPITE.SPIE_BINDER'>\n"
     ]
    }
   ],
   "source": [
    "skeleton = model_loader.load_skeleton_encoder(embed_dim, num_joints, n_feats, device=\"cuda\") if \"skeleton\" in modalities else None\n",
    "imu = model_loader.load_imu_encoder(embed_dim, device=\"cuda\") if \"imu\" in modalities else None\n",
    "pc = model_loader.load_pst_transformer(embed_dim, device=\"cuda\") if \"pc\" in modalities else None\n",
    "skeleton_gen = None\n",
    "model = SPITE.instantiate_binder(modalities, False, imu, pc, skeleton, skeleton_gen).to(\"cuda\")"
   ]
  },
  {
   "cell_type": "code",
   "execution_count": 17,
   "id": "3d968a8c",
   "metadata": {
    "ExecuteTime": {
     "end_time": "2025-07-19T16:14:46.945154Z",
     "start_time": "2025-07-19T16:14:46.339587Z"
    }
   },
   "outputs": [
    {
     "data": {
      "text/plain": [
       "<All keys matched successfully>"
      ]
     },
     "execution_count": 17,
     "metadata": {},
     "output_type": "execute_result"
    }
   ],
   "source": [
    "#model_path = \"/data/ICCV_RESULTS/ICCV/models/vast_2/wandb/run-20250301_072105-nsi1z316/files/model_145.pth\"\n",
    "model_path = \"/data/ICCV_RESULTS/OpenAccess/model_weights/v1/SPIE_v1.pth\"\n",
    "model.load_state_dict(torch.load(model_path))"
   ]
  },
  {
   "cell_type": "code",
   "execution_count": 18,
   "id": "e16e443d",
   "metadata": {
    "ExecuteTime": {
     "end_time": "2025-07-19T16:15:32.645693Z",
     "start_time": "2025-07-19T16:15:28.936257Z"
    }
   },
   "outputs": [],
   "source": [
    "m = \"eLIPD\"\n",
    "test_subj_dataset = matching.encode_all(sequence_datasets[m], model, window_length=24, model_type=model_type)"
   ]
  },
  {
   "cell_type": "markdown",
   "id": "d3f11439",
   "metadata": {
    "heading_collapsed": true
   },
   "source": [
    "# Matching Demo"
   ]
  },
  {
   "cell_type": "code",
   "execution_count": 743,
   "id": "5a67bd99",
   "metadata": {
    "ExecuteTime": {
     "end_time": "2025-07-19T21:03:30.263643Z",
     "start_time": "2025-07-19T21:03:30.251403Z"
    },
    "hidden": true
   },
   "outputs": [],
   "source": [
    "n_subjects = 8\n",
    "n_window_size = 160\n",
    "n_scenes = 1\n",
    "\n",
    "augmented_scenes = matching.create_augmented_scenes_with_windows(test_subj_dataset, num_windows=n_subjects, \n",
    "                                                        window_size=n_window_size, n_scenes=n_scenes, \n",
    "                                                        src_modality=src_modality, tgt_modality=tgt_modality)"
   ]
  },
  {
   "cell_type": "code",
   "execution_count": 744,
   "id": "4b4189ed",
   "metadata": {
    "ExecuteTime": {
     "end_time": "2025-07-19T21:03:34.379088Z",
     "start_time": "2025-07-19T21:03:34.067999Z"
    },
    "hidden": true
   },
   "outputs": [],
   "source": [
    "# Compute matching\n",
    "scene = augmented_scenes[0]\n",
    "predicted_matches = []\n",
    "sims = []\n",
    "\n",
    "imu_embs = scene[\"%s_embs\" % src_modality]\n",
    "pcd_embs = scene[\"%s_embs\" % tgt_modality]\n",
    "ground_truth = np.arange(len(imu_embs))\n",
    "for imu_query in imu_embs:\n",
    "    ### Find closest match.\n",
    "    best_match_index, similarities = matching.match_imu_window_to_lidar(imu_query, pcd_embs)\n",
    "    predicted_matches.append(best_match_index)\n",
    "    sims.append(similarities)\n",
    "results = [predicted_matches, ground_truth]"
   ]
  },
  {
   "cell_type": "code",
   "execution_count": 745,
   "id": "840c499d",
   "metadata": {
    "ExecuteTime": {
     "end_time": "2025-07-19T21:03:34.859066Z",
     "start_time": "2025-07-19T21:03:34.856091Z"
    },
    "hidden": true
   },
   "outputs": [],
   "source": [
    "from tqdm import tqdm"
   ]
  },
  {
   "cell_type": "code",
   "execution_count": 746,
   "id": "8d757e88",
   "metadata": {
    "ExecuteTime": {
     "end_time": "2025-07-19T21:06:37.283059Z",
     "start_time": "2025-07-19T21:03:35.504138Z"
    },
    "hidden": true
   },
   "outputs": [
    {
     "name": "stderr",
     "output_type": "stream",
     "text": [
      "100%|██████████| 160/160 [03:01<00:00,  1.14s/it]\n"
     ]
    }
   ],
   "source": [
    "# Compute matching for each frame\n",
    "scene = augmented_scenes[0]\n",
    "predicted_matches = []\n",
    "sims = []\n",
    "sims_frames = []\n",
    "imu_embs = scene[\"%s_embs\" % src_modality]\n",
    "pcd_embs = scene[\"%s_embs\" % tgt_modality]\n",
    "ground_truth = np.arange(len(imu_embs))\n",
    "for frame in tqdm(range(imu_embs.shape[1])):\n",
    "    sims = []\n",
    "    for imu_query in imu_embs[:,frame]:\n",
    "        ### Find closest match.\n",
    "        best_match_index, similarities = matching.match_imu_window_to_lidar(imu_query, pcd_embs[:,frame])\n",
    "        predicted_matches.append(best_match_index)\n",
    "        sims.append(similarities)\n",
    "    sims_frames.append(sims)\n",
    "    #results = [predicted_matches, ground_truth]"
   ]
  },
  {
   "cell_type": "markdown",
   "id": "912eaa40",
   "metadata": {
    "heading_collapsed": true,
    "hidden": true
   },
   "source": [
    "### Visualization Matching across Frames"
   ]
  },
  {
   "cell_type": "code",
   "execution_count": 838,
   "id": "03e11fd0",
   "metadata": {
    "ExecuteTime": {
     "end_time": "2025-07-20T13:41:31.992076Z",
     "start_time": "2025-07-20T13:41:31.988578Z"
    },
    "hidden": true
   },
   "outputs": [],
   "source": [
    "pcs = scene[\"PC\"][:,:,0]\n",
    "imus = scene[\"IMU\"][:,:,0]\n",
    "sims_f = np.array(sims_frames)"
   ]
  },
  {
   "cell_type": "code",
   "execution_count": 839,
   "id": "dde2b8e2",
   "metadata": {
    "ExecuteTime": {
     "end_time": "2025-07-20T13:41:32.820461Z",
     "start_time": "2025-07-20T13:41:32.818017Z"
    },
    "hidden": true
   },
   "outputs": [
    {
     "data": {
      "text/plain": [
       "torch.Size([8, 160, 256, 3])"
      ]
     },
     "execution_count": 839,
     "metadata": {},
     "output_type": "execute_result"
    }
   ],
   "source": [
    "pcs.shape"
   ]
  },
  {
   "cell_type": "code",
   "execution_count": 841,
   "id": "5f1eb557",
   "metadata": {
    "ExecuteTime": {
     "end_time": "2025-07-20T13:48:07.933059Z",
     "start_time": "2025-07-20T13:41:36.572522Z"
    },
    "code_folding": [
     19,
     29,
     45,
     96
    ],
    "hidden": true,
    "scrolled": true
   },
   "outputs": [
    {
     "name": "stderr",
     "output_type": "stream",
     "text": [
      "Query 6: 100%|██████████| 160/160 [01:53<00:00,  1.41it/s]\n",
      "IMAGEIO FFMPEG_WRITER WARNING: input image is not divisible by macro_block_size=16, resizing from (2910, 1506) to (2912, 1520) to ensure video compatibility with most codecs and players. To prevent resizing, make your input image divisible by the macro_block_size or set the macro_block_size to 1 (risking incompatibility).\n",
      "Query 7:   0%|          | 0/160 [00:00<?, ?it/s]"
     ]
    },
    {
     "name": "stdout",
     "output_type": "stream",
     "text": [
      "✅ Saved video: similarity_visualization_6.mp4\n"
     ]
    },
    {
     "name": "stderr",
     "output_type": "stream",
     "text": [
      "Query 7: 100%|██████████| 160/160 [01:48<00:00,  1.47it/s]\n",
      "IMAGEIO FFMPEG_WRITER WARNING: input image is not divisible by macro_block_size=16, resizing from (2910, 1506) to (2912, 1520) to ensure video compatibility with most codecs and players. To prevent resizing, make your input image divisible by the macro_block_size or set the macro_block_size to 1 (risking incompatibility).\n"
     ]
    },
    {
     "name": "stdout",
     "output_type": "stream",
     "text": [
      "✅ Saved video: similarity_visualization_7.mp4\n"
     ]
    }
   ],
   "source": [
    "from PIL import Image, ImageOps\n",
    "import numpy as np\n",
    "import matplotlib.pyplot as plt\n",
    "from matplotlib.gridspec import GridSpec\n",
    "from matplotlib import cm\n",
    "from tqdm import tqdm\n",
    "import imageio\n",
    "import os\n",
    "from scipy.ndimage import binary_dilation\n",
    "import imageio_ffmpeg\n",
    "\n",
    "# === CONFIG ===\n",
    "FRAME_COUNT = n_window_size\n",
    "FPS = 15\n",
    "WHITE_THRESHOLD = 245\n",
    "PAD_ROWS = 5\n",
    "os.makedirs(\"frames\", exist_ok=True)\n",
    "\n",
    "# === Helper: Pad cropped image to target size, centered ===\n",
    "def pad_to_center(image, target_size, fill=(255, 255, 255)):\n",
    "    w, h = image.size\n",
    "    target_w, target_h = target_size\n",
    "    pad_left = (target_w - w) // 2\n",
    "    pad_top = (target_h - h) // 2\n",
    "    pad_right = target_w - w - pad_left\n",
    "    pad_bottom = target_h - h - pad_top\n",
    "    return ImageOps.expand(image, border=(pad_left, pad_top, pad_right, pad_bottom), fill=fill)\n",
    "\n",
    "# === Helper: Compute fixed crop bounds across all images ===\n",
    "def get_global_crop_bounds(images, threshold=WHITE_THRESHOLD, pad=PAD_ROWS):\n",
    "    all_row_masks = []\n",
    "\n",
    "    for img in images:\n",
    "        arr = np.asarray(img)\n",
    "        gray = arr.mean(axis=2)\n",
    "        row_mask = (gray < threshold).any(axis=1)\n",
    "        row_mask = binary_dilation(row_mask, iterations=pad)\n",
    "        all_row_masks.append(row_mask)\n",
    "\n",
    "    combined = np.stack(all_row_masks, axis=0)\n",
    "    final_mask = combined.any(axis=0)\n",
    "    top, bottom = np.where(final_mask)[0][[0, -1]]\n",
    "    return top, bottom\n",
    "\n",
    "# === Helper: Auto-remove white horizontal bands in the middle ===\n",
    "def remove_middle_white_bands_with_padding(images, threshold=245, pad_margin=5):\n",
    "    \"\"\"Detect persistent horizontal white bands and replace them with smaller white gaps.\"\"\"\n",
    "    arrs = [np.asarray(img) for img in images]\n",
    "    h, w = arrs[0].shape[:2]\n",
    "\n",
    "    # Step 1: detect always-white rows\n",
    "    white_rows_all = []\n",
    "    for arr in arrs:\n",
    "        gray = arr.mean(axis=2)\n",
    "        white_rows = (gray > threshold).all(axis=1)\n",
    "        white_rows_all.append(white_rows)\n",
    "\n",
    "    stacked = np.stack(white_rows_all, axis=0)\n",
    "    always_white = stacked.all(axis=0)\n",
    "\n",
    "    # Step 2: identify bands\n",
    "    bands = []\n",
    "    in_band = False\n",
    "    for i, val in enumerate(always_white):\n",
    "        if val and not in_band:\n",
    "            band_start = i\n",
    "            in_band = True\n",
    "        elif not val and in_band:\n",
    "            band_end = i\n",
    "            bands.append((band_start, band_end))\n",
    "            in_band = False\n",
    "    if in_band:\n",
    "        bands.append((band_start, h))\n",
    "\n",
    "    # Step 3: Replace band with small padding block (white rows)\n",
    "    new_images = []\n",
    "    for arr in arrs:\n",
    "        rows = []\n",
    "        prev = 0\n",
    "        for band_start, band_end in bands:\n",
    "            # Keep part above band\n",
    "            rows.append(arr[prev:band_start])\n",
    "            # Insert new white padding block\n",
    "            white_block = np.ones((pad_margin, w, 3), dtype=np.uint8) * 255\n",
    "            rows.append(white_block)\n",
    "            prev = band_end\n",
    "        # Append remaining bottom rows\n",
    "        rows.append(arr[prev:])\n",
    "        final = np.vstack(rows)\n",
    "        new_images.append(Image.fromarray(final))\n",
    "\n",
    "    return new_images\n",
    "\n",
    "\n",
    "N_SUBJECTS = n_subjects\n",
    "# === Main loop for each query subject ===\n",
    "for QUERY_IDX in range(N_SUBJECTS):\n",
    "    OUTPUT_VIDEO = f\"similarity_visualization_{QUERY_IDX}.mp4\"\n",
    "    frame_paths = []\n",
    "\n",
    "    # === Step 1: Render and save raw frames ===\n",
    "    for t in tqdm(range(FRAME_COUNT), desc=f\"Query {QUERY_IDX}\"):\n",
    "        query_sims = sims_f[t, QUERY_IDX]\n",
    "        colors = cm.cool(query_sims / query_sims.max())\n",
    "\n",
    "        fig = plt.figure(figsize=(12, 8))\n",
    "        gs = GridSpec(2, 2, height_ratios=[2, 1], hspace=0.3)\n",
    "\n",
    "        # --- 3D Point Cloud ---\n",
    "        ax3d = fig.add_subplot(gs[0, :], projection='3d')\n",
    "        scale = 20\n",
    "        spacing = scale / 1 + 2\n",
    "\n",
    "        for i in range(N_SUBJECTS):\n",
    "            cloud = pcs[i][t]\n",
    "            x = cloud[:, 0] * scale + i * spacing\n",
    "            y = cloud[:, 1] * scale\n",
    "            z = cloud[:, 2] * scale\n",
    "            ax3d.scatter(x, y, z, c=[colors[i]] * len(x), s=3, alpha=0.9)\n",
    "            ax3d.text(i * spacing, -1.3, -23.5, f\"Subject {i+1}\", ha='center',\n",
    "                      bbox=dict(boxstyle=\"round,pad=0.3\", facecolor='white', alpha=0.8), fontsize=12)\n",
    "\n",
    "        total_width = (N_SUBJECTS + 1) * spacing\n",
    "        ax3d.set_xlim(-2, 170)\n",
    "        ax3d.set_ylim(-1.5, 1.5)\n",
    "        ax3d.set_zlim(-0.25, 0.45)\n",
    "        ax3d.set_box_aspect([total_width, 2, 1])\n",
    "        ax3d.view_init(elev=10, azim=270)\n",
    "        ax3d.axis('off')\n",
    "        ax3d.set_position([0, 0.25, 1, 1])\n",
    "        ax3d.patch.set_visible(False)\n",
    "\n",
    "        # --- IMU Plot ---\n",
    "        ax2d = fig.add_subplot(gs[1, 0])\n",
    "        imu_seq = imus[QUERY_IDX].numpy()\n",
    "        for c in [36, 37, 38, 39, 40, 41, 42, 43, 44, 45, 46, 47]:\n",
    "            ax2d.plot(imu_seq[:t+1, c])\n",
    "        ax2d.set_xlim(0, FRAME_COUNT)\n",
    "        ax2d.set_ylim(np.min(imu_seq), np.max(imu_seq))\n",
    "        ax2d.set_title(f\"IMU Sequence - Subject {QUERY_IDX+1}\", fontsize=12, fontweight='bold')\n",
    "        ax2d.tick_params(labelsize=10)\n",
    "\n",
    "        # --- Similarity Bar Plot ---\n",
    "        ax_bar = fig.add_subplot(gs[1, 1])\n",
    "        bars = ax_bar.bar(np.arange(N_SUBJECTS), query_sims, color=[colors[i] for i in range(N_SUBJECTS)])\n",
    "        bars[QUERY_IDX].set_edgecolor(\"black\")\n",
    "        bars[QUERY_IDX].set_linewidth(2)\n",
    "        bars[QUERY_IDX].set_hatch(\"//\")\n",
    "        ax_bar.set_ylim(0, 1)\n",
    "        ax_bar.set_xticks(np.arange(N_SUBJECTS))\n",
    "        ax_bar.set_xticklabels([f\"S{i+1}\" for i in range(N_SUBJECTS)])\n",
    "        ax_bar.set_title(\"Cosine Similarity to Query IMU\", fontsize=12, fontweight='bold')\n",
    "        ax_bar.tick_params(labelsize=10)\n",
    "\n",
    "        frame_path = f\"frames/frame_{QUERY_IDX}_{t:03d}.png\"\n",
    "        plt.savefig(frame_path, dpi=300, bbox_inches='tight', pad_inches=0.05)\n",
    "        plt.close(fig)\n",
    "        frame_paths.append(frame_path)\n",
    "\n",
    "    # === Step 2: Load and crop top/bottom ===\n",
    "    raw_images = [Image.open(p).convert(\"RGB\") for p in frame_paths]\n",
    "    top, bottom = get_global_crop_bounds(raw_images)\n",
    "    cropped_images = [img.crop((0, top, img.width, bottom)) for img in raw_images]\n",
    "\n",
    "    # === Step 3: Auto-remove middle white bands ===\n",
    "    cleaned_images = remove_middle_white_bands_with_padding(cropped_images)\n",
    "\n",
    "    # === Step 4: Pad and export video ===\n",
    "    max_w = max(img.size[0] for img in cleaned_images)\n",
    "    max_h = max(img.size[1] for img in cleaned_images)\n",
    "    target_size = (max_w, max_h)\n",
    "    frames = [np.array(pad_to_center(img, target_size)) for img in cleaned_images]\n",
    "\n",
    "    imageio.mimsave(OUTPUT_VIDEO, frames, fps=FPS)\n",
    "    print(f\"✅ Saved video: {OUTPUT_VIDEO}\")\n"
   ]
  },
  {
   "cell_type": "markdown",
   "id": "495b181a",
   "metadata": {
    "heading_collapsed": true
   },
   "source": [
    "# Temporal Search Demo"
   ]
  },
  {
   "cell_type": "code",
   "execution_count": 757,
   "id": "beafc20a",
   "metadata": {
    "ExecuteTime": {
     "end_time": "2025-07-19T21:30:49.832240Z",
     "start_time": "2025-07-19T21:30:49.828957Z"
    },
    "hidden": true
   },
   "outputs": [],
   "source": [
    "query = test_subj_dataset[\"921\"][\"seq2\"][\"IMU_EMBS\"]\n",
    "target = test_subj_dataset[\"921\"][\"seq2\"][\"PC_EMBS\"]"
   ]
  },
  {
   "cell_type": "code",
   "execution_count": 758,
   "id": "ce088d5e",
   "metadata": {
    "ExecuteTime": {
     "end_time": "2025-07-19T21:30:54.915168Z",
     "start_time": "2025-07-19T21:30:54.911679Z"
    },
    "hidden": true
   },
   "outputs": [],
   "source": [
    "import numpy as np\n",
    "q = np.random.choice(np.arange(len(query)), 3)[0]"
   ]
  },
  {
   "cell_type": "code",
   "execution_count": 760,
   "id": "8e965292",
   "metadata": {
    "ExecuteTime": {
     "end_time": "2025-07-19T21:31:34.346269Z",
     "start_time": "2025-07-19T21:31:34.337825Z"
    },
    "hidden": true
   },
   "outputs": [],
   "source": [
    "similarities = torch.matmul(target, query[q])"
   ]
  },
  {
   "cell_type": "code",
   "execution_count": 761,
   "id": "ccbcf8e6",
   "metadata": {
    "ExecuteTime": {
     "end_time": "2025-07-19T21:31:43.537918Z",
     "start_time": "2025-07-19T21:31:43.455435Z"
    },
    "hidden": true
   },
   "outputs": [
    {
     "data": {
      "text/plain": [
       "[<matplotlib.lines.Line2D at 0x7f92c202c130>]"
      ]
     },
     "execution_count": 761,
     "metadata": {},
     "output_type": "execute_result"
    },
    {
     "data": {
      "image/png": "[encoded data removed]",
      "text/plain": [
       "<Figure size 432x288 with 1 Axes>"
      ]
     },
     "metadata": {
      "needs_background": "light"
     },
     "output_type": "display_data"
    }
   ],
   "source": [
    "plt.plot(similarities)"
   ]
  },
  {
   "cell_type": "code",
   "execution_count": 771,
   "id": "8b150632",
   "metadata": {
    "ExecuteTime": {
     "end_time": "2025-07-19T21:33:31.866960Z",
     "start_time": "2025-07-19T21:33:31.862342Z"
    },
    "hidden": true
   },
   "outputs": [
    {
     "data": {
      "text/plain": [
       "(1377, 1377)"
      ]
     },
     "execution_count": 771,
     "metadata": {},
     "output_type": "execute_result"
    }
   ],
   "source": [
    "len(similarities), len(query_signal)"
   ]
  },
  {
   "cell_type": "code",
   "execution_count": 785,
   "id": "1ed25c21",
   "metadata": {
    "ExecuteTime": {
     "end_time": "2025-07-19T21:52:43.580424Z",
     "start_time": "2025-07-19T21:52:43.576414Z"
    },
    "hidden": true
   },
   "outputs": [],
   "source": [
    "query_signal = test_subj_dataset[\"921\"][\"seq2\"][\"IMU\"][23:,-12:] # show only accelerometer\n",
    "target_signal = test_subj_dataset[\"921\"][\"seq2\"][\"PC\"][23:, :] "
   ]
  },
  {
   "cell_type": "code",
   "execution_count": 849,
   "id": "cc2c2283",
   "metadata": {
    "ExecuteTime": {
     "end_time": "2025-07-20T14:19:48.904124Z",
     "start_time": "2025-07-20T14:19:48.596257Z"
    },
    "hidden": true
   },
   "outputs": [
    {
     "data": {
      "image/png": "[encoded data removed]",
      "text/plain": [
       "<Figure size 720x360 with 1 Axes>"
      ]
     },
     "metadata": {
      "needs_background": "light"
     },
     "output_type": "display_data"
    }
   ],
   "source": [
    "plt.figure(figsize=(10,5))\n",
    "plt.plot(imu_query)\n",
    "plt.axis(\"off\")\n",
    "plt.savefig(\"imu_query.png\", dpi=300)"
   ]
  },
  {
   "cell_type": "code",
   "execution_count": 776,
   "id": "318ef5c2",
   "metadata": {
    "ExecuteTime": {
     "end_time": "2025-07-19T21:43:45.374992Z",
     "start_time": "2025-07-19T21:41:39.534154Z"
    },
    "code_folding": [
     10
    ],
    "hidden": true
   },
   "outputs": [
    {
     "name": "stderr",
     "output_type": "stream",
     "text": [
      "100%|██████████| 1377/1377 [02:03<00:00, 11.14it/s]\n",
      "IMAGEIO FFMPEG_WRITER WARNING: input image is not divisible by macro_block_size=16, resizing from (800, 300) to (800, 304) to ensure video compatibility with most codecs and players. To prevent resizing, make your input image divisible by the macro_block_size or set the macro_block_size to 1 (risking incompatibility).\n"
     ]
    }
   ],
   "source": [
    "import numpy as np\n",
    "import matplotlib.pyplot as plt\n",
    "import imageio\n",
    "from tqdm import tqdm\n",
    "import io\n",
    "\n",
    "imu_full = query_signal.numpy()\n",
    "\n",
    "frames = []\n",
    "for t in tqdm(range(1, imu_full.shape[0] + 1)):\n",
    "    fig, ax = plt.subplots(figsize=(8, 3))\n",
    "\n",
    "    for c in range(imu_full.shape[1]):\n",
    "        ax.plot(imu_full[:t, c], linewidth=1, label=f'C{c}')\n",
    "\n",
    "    ax.set_xlim(0, imu_full.shape[0])\n",
    "    ax.set_ylim(np.min(imu_full), np.max(imu_full))\n",
    "    ax.set_title(\"Full IMU Time Series\", fontsize=14, fontweight='bold')\n",
    "    ax.set_xlabel(\"Time\")\n",
    "    ax.set_ylabel(\"Value\")\n",
    "    ax.tick_params(labelsize=8)\n",
    "    plt.tight_layout()\n",
    "\n",
    "    # === Convert to image (no file saving) ===\n",
    "    buf = io.BytesIO()\n",
    "    fig.savefig(buf, format='png', dpi=100)\n",
    "    plt.close(fig)\n",
    "    buf.seek(0)\n",
    "    image = Image.open(buf).convert('RGB')\n",
    "    frames.append(np.array(image))\n",
    "    buf.close()\n",
    "\n",
    "# Save video\n",
    "imageio.mimsave(\"imu_full_animation.mp4\", frames, fps=60)"
   ]
  },
  {
   "cell_type": "code",
   "execution_count": 835,
   "id": "94835024",
   "metadata": {
    "ExecuteTime": {
     "end_time": "2025-07-19T23:02:07.872493Z",
     "start_time": "2025-07-19T23:02:01.237382Z"
    },
    "hidden": true
   },
   "outputs": [
    {
     "name": "stderr",
     "output_type": "stream",
     "text": [
      "100%|██████████| 24/24 [00:05<00:00,  4.74it/s]\n",
      "IMAGEIO FFMPEG_WRITER WARNING: input image is not divisible by macro_block_size=16, resizing from (2400, 900) to (2400, 912) to ensure video compatibility with most codecs and players. To prevent resizing, make your input image divisible by the macro_block_size or set the macro_block_size to 1 (risking incompatibility).\n"
     ]
    }
   ],
   "source": [
    "import numpy as np\n",
    "import matplotlib.pyplot as plt\n",
    "import imageio\n",
    "from tqdm import tqdm\n",
    "import io\n",
    "\n",
    "imu_query = query_signal[q-23:q+1].numpy()\n",
    "\n",
    "frames = []\n",
    "for t in tqdm(range(1, imu_query.shape[0] + 1)):\n",
    "    fig, ax = plt.subplots(figsize=(8, 3))\n",
    "\n",
    "    for c in range(imu_query.shape[1]):\n",
    "        ax.plot(imu_query[:t, c], linewidth=1, label=f'C{c}')\n",
    "\n",
    "    ax.set_xlim(0, imu_query.shape[0])\n",
    "    ax.set_ylim(np.min(imu_query), np.max(imu_query))\n",
    "    ax.set_title(\"Query IMU Time Series\", fontsize=14, fontweight='bold')\n",
    "    ax.set_xlabel(\"Time\")\n",
    "    ax.set_ylabel(\"Value\")\n",
    "    ax.tick_params(labelsize=8)\n",
    "    plt.tight_layout()\n",
    "\n",
    "    # === Convert to image (no file saving) ===\n",
    "    buf = io.BytesIO()\n",
    "    fig.savefig(buf, format='png', dpi=300)\n",
    "    plt.close(fig)\n",
    "    buf.seek(0)\n",
    "    image = Image.open(buf).convert('RGB')\n",
    "    frames.append(np.array(image))\n",
    "    buf.close()\n",
    "\n",
    "# Save video\n",
    "imageio.mimsave(\"imu_query_animation.mp4\", frames, fps=24)"
   ]
  },
  {
   "cell_type": "code",
   "execution_count": 804,
   "id": "efe0c1d6",
   "metadata": {
    "ExecuteTime": {
     "end_time": "2025-07-19T21:57:43.557506Z",
     "start_time": "2025-07-19T21:56:47.392253Z"
    },
    "hidden": true
   },
   "outputs": [
    {
     "name": "stderr",
     "output_type": "stream",
     "text": [
      "100%|██████████| 1377/1377 [00:54<00:00, 25.33it/s]\n",
      "IMAGEIO FFMPEG_WRITER WARNING: input image is not divisible by macro_block_size=16, resizing from (387, 387) to (400, 400) to ensure video compatibility with most codecs and players. To prevent resizing, make your input image divisible by the macro_block_size or set the macro_block_size to 1 (risking incompatibility).\n"
     ]
    }
   ],
   "source": [
    "pcs = target_signal\n",
    "all_points = np.concatenate(pcs.numpy(), axis=0)\n",
    "center = all_points.mean(axis=0)\n",
    "range_scale = 0.5  # how tight the zoom is\n",
    "\n",
    "xlim = (center[0] - range_scale, center[0] + range_scale)\n",
    "ylim = (center[1] - range_scale, center[1] + range_scale)\n",
    "zlim = (center[2] - range_scale, center[2] + range_scale)\n",
    "\n",
    "frames = []\n",
    "\n",
    "for t in tqdm(range(len(pcs))):\n",
    "    fig = plt.figure(figsize=(5, 5))\n",
    "    ax = fig.add_subplot(111, projection='3d')\n",
    "    \n",
    "    pc = pcs[t]\n",
    "    ax.scatter(pc[:, 0], pc[:, 1], pc[:, 2], s=5, alpha=1)\n",
    "\n",
    "    # Consistent axis limits\n",
    "    ax.set_xlim(*xlim)\n",
    "    ax.set_ylim(*ylim)\n",
    "    ax.set_zlim(*zlim)\n",
    "\n",
    "    # Fixed view\n",
    "    ax.view_init(elev=20, azim=270)\n",
    "    ax.axis('off')\n",
    "\n",
    "    # Convert to image\n",
    "    buf = io.BytesIO()\n",
    "    fig.savefig(buf, format='png', dpi=100, bbox_inches='tight', pad_inches=0.05)\n",
    "    plt.close(fig)\n",
    "    buf.seek(0)\n",
    "    img = Image.open(buf).convert(\"RGB\")\n",
    "    frames.append(np.array(img))\n",
    "    buf.close()\n",
    "\n",
    "# Save video\n",
    "imageio.mimsave(\"pointcloud_sequence.mp4\", frames, fps=60)"
   ]
  },
  {
   "cell_type": "code",
   "execution_count": 834,
   "id": "17988f88",
   "metadata": {
    "ExecuteTime": {
     "end_time": "2025-07-19T23:01:35.609016Z",
     "start_time": "2025-07-19T23:01:31.421676Z"
    },
    "hidden": true
   },
   "outputs": [
    {
     "name": "stderr",
     "output_type": "stream",
     "text": [
      "100%|██████████| 24/24 [00:02<00:00,  8.93it/s]\n",
      "IMAGEIO FFMPEG_WRITER WARNING: input image is not divisible by macro_block_size=16, resizing from (1162, 1162) to (1168, 1168) to ensure video compatibility with most codecs and players. To prevent resizing, make your input image divisible by the macro_block_size or set the macro_block_size to 1 (risking incompatibility).\n"
     ]
    }
   ],
   "source": [
    "pcs = target_signal[q-23:q+1]\n",
    "all_points = np.concatenate(pcs.numpy(), axis=0)\n",
    "center = all_points.mean(axis=0)\n",
    "range_scale = 0.5  # how tight the zoom is\n",
    "\n",
    "xlim = (center[0] - range_scale, center[0] + range_scale)\n",
    "ylim = (center[1] - range_scale, center[1] + range_scale)\n",
    "zlim = (center[2] - range_scale, center[2] + range_scale)\n",
    "\n",
    "frames = []\n",
    "\n",
    "for t in tqdm(range(len(pcs))):\n",
    "    fig = plt.figure(figsize=(5, 5))\n",
    "    ax = fig.add_subplot(111, projection='3d')\n",
    "    \n",
    "    pc = pcs[t]\n",
    "    ax.scatter(pc[:, 0], pc[:, 1], pc[:, 2], s=5, alpha=1)\n",
    "\n",
    "    # Consistent axis limits\n",
    "    ax.set_xlim(*xlim)\n",
    "    ax.set_ylim(*ylim)\n",
    "    ax.set_zlim(*zlim)\n",
    "\n",
    "    # Fixed view\n",
    "    ax.view_init(elev=20, azim=270)\n",
    "    ax.axis('off')\n",
    "\n",
    "    # Convert to image\n",
    "    buf = io.BytesIO()\n",
    "    fig.savefig(buf, format='png', dpi=300, bbox_inches='tight', pad_inches=0.05)\n",
    "    plt.close(fig)\n",
    "    buf.seek(0)\n",
    "    img = Image.open(buf).convert(\"RGB\")\n",
    "    frames.append(np.array(img))\n",
    "    buf.close()\n",
    "\n",
    "# Save video\n",
    "imageio.mimsave(\"query_pointcloud_sequence.mp4\", frames, fps=24)"
   ]
  },
  {
   "cell_type": "code",
   "execution_count": 830,
   "id": "bca8d96d",
   "metadata": {
    "ExecuteTime": {
     "end_time": "2025-07-19T22:11:05.723674Z",
     "start_time": "2025-07-19T22:11:05.714431Z"
    },
    "hidden": true
   },
   "outputs": [],
   "source": [
    "def save_pointcloud_clip(pcs, center_idx, window=48, output_path=\"match.mp4\"):\n",
    "    start = max(0, center_idx - window // 2)\n",
    "    end = min(len(pcs), center_idx + window // 2)\n",
    "    clip = pcs[start:end]\n",
    "    \n",
    "    frames = []\n",
    "    for pc in clip:\n",
    "        fig = plt.figure(figsize=(4, 4))\n",
    "        ax = fig.add_subplot(111, projection='3d')\n",
    "        ax.scatter(pc[:, 0], pc[:, 1], pc[:, 2], s=5, alpha=1)\n",
    "        ax.set_xlim(-0.4, 0.4)\n",
    "        ax.set_ylim(-0.4, 0.4)\n",
    "        ax.set_zlim(-0.3, 0.5)\n",
    "        ax.view_init(elev=20, azim=270)\n",
    "        ax.axis('off')\n",
    "        buf = io.BytesIO()\n",
    "        fig.savefig(buf, format='png', dpi=300, bbox_inches='tight', pad_inches=0.05)\n",
    "        plt.close(fig)\n",
    "        buf.seek(0)\n",
    "        img = Image.open(buf).convert(\"RGB\")\n",
    "        frames.append(np.array(img))\n",
    "        buf.close()\n",
    "\n",
    "    imageio.mimsave(output_path, frames, fps=15)"
   ]
  },
  {
   "cell_type": "code",
   "execution_count": 814,
   "id": "23ad236e",
   "metadata": {
    "ExecuteTime": {
     "end_time": "2025-07-19T22:08:28.747169Z",
     "start_time": "2025-07-19T22:08:28.743971Z"
    },
    "hidden": true
   },
   "outputs": [],
   "source": [
    "from scipy.signal import find_peaks\n",
    "peaks, _ = find_peaks(similarities, height=0.4, distance=100)\n",
    "lowest,_ = find_peaks(-similarities, height=0.1, distance=100)"
   ]
  },
  {
   "cell_type": "code",
   "execution_count": 811,
   "id": "65bd24d9",
   "metadata": {
    "ExecuteTime": {
     "end_time": "2025-07-19T22:07:13.485609Z",
     "start_time": "2025-07-19T22:07:13.391882Z"
    },
    "hidden": true
   },
   "outputs": [
    {
     "data": {
      "text/plain": [
       "<matplotlib.legend.Legend at 0x7f9314805250>"
      ]
     },
     "execution_count": 811,
     "metadata": {},
     "output_type": "execute_result"
    },
    {
     "data": {
      "image/png": "[encoded data removed]",
      "text/plain": [
       "<Figure size 432x288 with 1 Axes>"
      ]
     },
     "metadata": {
      "needs_background": "light"
     },
     "output_type": "display_data"
    }
   ],
   "source": [
    "plt.plot(similarities)\n",
    "plt.plot(peaks, similarities[peaks], \"x\", label=\"Similarity Peaks\")\n",
    "plt.legend()"
   ]
  },
  {
   "cell_type": "code",
   "execution_count": 815,
   "id": "3bae24b6",
   "metadata": {
    "ExecuteTime": {
     "end_time": "2025-07-19T22:08:40.010725Z",
     "start_time": "2025-07-19T22:08:39.913155Z"
    },
    "hidden": true
   },
   "outputs": [
    {
     "data": {
      "text/plain": [
       "<matplotlib.legend.Legend at 0x7f932265e6a0>"
      ]
     },
     "execution_count": 815,
     "metadata": {},
     "output_type": "execute_result"
    },
    {
     "data": {
      "image/png": "[encoded data removed]",
      "text/plain": [
       "<Figure size 432x288 with 1 Axes>"
      ]
     },
     "metadata": {
      "needs_background": "light"
     },
     "output_type": "display_data"
    }
   ],
   "source": [
    "plt.plot(similarities)\n",
    "plt.plot(lowest, similarities[lowest], \"x\", label=\"Similarity Peaks\")\n",
    "plt.legend()"
   ]
  },
  {
   "cell_type": "code",
   "execution_count": 831,
   "id": "2ce21ee9",
   "metadata": {
    "ExecuteTime": {
     "end_time": "2025-07-19T22:11:58.879390Z",
     "start_time": "2025-07-19T22:11:07.999252Z"
    },
    "hidden": true
   },
   "outputs": [
    {
     "name": "stderr",
     "output_type": "stream",
     "text": [
      "IMAGEIO FFMPEG_WRITER WARNING: input image is not divisible by macro_block_size=16, resizing from (935, 935) to (944, 944) to ensure video compatibility with most codecs and players. To prevent resizing, make your input image divisible by the macro_block_size or set the macro_block_size to 1 (risking incompatibility).\n",
      "IMAGEIO FFMPEG_WRITER WARNING: input image is not divisible by macro_block_size=16, resizing from (935, 935) to (944, 944) to ensure video compatibility with most codecs and players. To prevent resizing, make your input image divisible by the macro_block_size or set the macro_block_size to 1 (risking incompatibility).\n",
      "IMAGEIO FFMPEG_WRITER WARNING: input image is not divisible by macro_block_size=16, resizing from (935, 935) to (944, 944) to ensure video compatibility with most codecs and players. To prevent resizing, make your input image divisible by the macro_block_size or set the macro_block_size to 1 (risking incompatibility).\n",
      "IMAGEIO FFMPEG_WRITER WARNING: input image is not divisible by macro_block_size=16, resizing from (935, 935) to (944, 944) to ensure video compatibility with most codecs and players. To prevent resizing, make your input image divisible by the macro_block_size or set the macro_block_size to 1 (risking incompatibility).\n",
      "IMAGEIO FFMPEG_WRITER WARNING: input image is not divisible by macro_block_size=16, resizing from (935, 935) to (944, 944) to ensure video compatibility with most codecs and players. To prevent resizing, make your input image divisible by the macro_block_size or set the macro_block_size to 1 (risking incompatibility).\n",
      "IMAGEIO FFMPEG_WRITER WARNING: input image is not divisible by macro_block_size=16, resizing from (935, 935) to (944, 944) to ensure video compatibility with most codecs and players. To prevent resizing, make your input image divisible by the macro_block_size or set the macro_block_size to 1 (risking incompatibility).\n",
      "IMAGEIO FFMPEG_WRITER WARNING: input image is not divisible by macro_block_size=16, resizing from (935, 935) to (944, 944) to ensure video compatibility with most codecs and players. To prevent resizing, make your input image divisible by the macro_block_size or set the macro_block_size to 1 (risking incompatibility).\n",
      "IMAGEIO FFMPEG_WRITER WARNING: input image is not divisible by macro_block_size=16, resizing from (935, 935) to (944, 944) to ensure video compatibility with most codecs and players. To prevent resizing, make your input image divisible by the macro_block_size or set the macro_block_size to 1 (risking incompatibility).\n",
      "IMAGEIO FFMPEG_WRITER WARNING: input image is not divisible by macro_block_size=16, resizing from (935, 935) to (944, 944) to ensure video compatibility with most codecs and players. To prevent resizing, make your input image divisible by the macro_block_size or set the macro_block_size to 1 (risking incompatibility).\n"
     ]
    }
   ],
   "source": [
    "top_idxs = peaks\n",
    "low_idxs = lowest\n",
    "pcs = target_signal\n",
    "for i, idx in enumerate(top_idxs):\n",
    "    save_pointcloud_clip(pcs, idx, window=48, output_path=f\"match_{i+1}.mp4\")\n",
    "\n",
    "for i, idx in enumerate(low_idxs):\n",
    "    save_pointcloud_clip(pcs, idx, window=48, output_path=f\"outlier_{i+1}.mp4\")"
   ]
  },
  {
   "cell_type": "code",
   "execution_count": 833,
   "id": "0708d787",
   "metadata": {
    "ExecuteTime": {
     "end_time": "2025-07-19T23:00:29.170158Z",
     "start_time": "2025-07-19T22:53:54.308338Z"
    },
    "hidden": true
   },
   "outputs": [
    {
     "name": "stderr",
     "output_type": "stream",
     "text": [
      "100%|██████████| 1377/1377 [06:21<00:00,  3.61it/s]\n",
      "IMAGEIO FFMPEG_WRITER WARNING: input image is not divisible by macro_block_size=16, resizing from (3000, 900) to (3008, 912) to ensure video compatibility with most codecs and players. To prevent resizing, make your input image divisible by the macro_block_size or set the macro_block_size to 1 (risking incompatibility).\n"
     ]
    }
   ],
   "source": [
    "T = len(similarities)\n",
    "similarity = similarities\n",
    "\n",
    "window_size = 48\n",
    "half_win = window_size // 2\n",
    "\n",
    "top_idxs = peaks\n",
    "low_idxs = lowest\n",
    "\n",
    "# Compute windows: (start, end)\n",
    "top_spans = [(max(0, i - half_win), min(T, i + half_win)) for i in top_idxs]\n",
    "low_spans = [(max(0, i - half_win), min(T, i + half_win)) for i in low_idxs]\n",
    "\n",
    "frames = []\n",
    "for t in tqdm(range(T)):\n",
    "    fig, ax = plt.subplots(figsize=(10, 3))\n",
    "\n",
    "    # === Plot similarity curve\n",
    "    ax.plot(similarity, color='C0', label='Similarity')\n",
    "    ax.axvline(t, linestyle='--', color='black', linewidth=1)\n",
    "\n",
    "    # === Highlight top spans\n",
    "    for start, end in top_spans:\n",
    "        ax.axvspan(start, end, color='green', alpha=0.3)\n",
    "\n",
    "    # === Highlight low spans\n",
    "    for start, end in low_spans:\n",
    "        ax.axvspan(start, end, color='red', alpha=0.3)\n",
    "\n",
    "    # === Frame info\n",
    "    ax.set_xlim(0, T)\n",
    "    ax.set_ylim(-0.3, 1)\n",
    "    ax.set_title(\"Similarity to Query Over Time\", fontsize=12)\n",
    "    ax.set_xlabel(\"Time\")\n",
    "    ax.set_ylabel(\"Similarity\")\n",
    "    ax.tick_params(labelsize=8)\n",
    "    ax.legend(fontsize=8)\n",
    "\n",
    "    plt.tight_layout()\n",
    "\n",
    "    # Save frame to memory\n",
    "    buf = io.BytesIO()\n",
    "    fig.savefig(buf, format='png', dpi=300)\n",
    "    plt.close(fig)\n",
    "    buf.seek(0)\n",
    "    img = Image.open(buf).convert(\"RGB\")\n",
    "    frames.append(np.array(img))\n",
    "    buf.close()\n",
    "\n",
    "# Export animation\n",
    "imageio.mimsave(\"similarity_with_highlighted_windows.mp4\", frames, fps=60)"
   ]
  }
 ],
 "metadata": {
  "kernelspec": {
   "display_name": "Python 3",
   "language": "python",
   "name": "python3"
  },
  "language_info": {
   "codemirror_mode": {
    "name": "ipython",
    "version": 3
   },
   "file_extension": ".py",
   "mimetype": "text/x-python",
   "name": "python",
   "nbconvert_exporter": "python",
   "pygments_lexer": "ipython3",
   "version": "3.8.10"
  },
  "toc": {
   "base_numbering": 1,
   "nav_menu": {},
   "number_sections": false,
   "sideBar": true,
   "skip_h1_title": false,
   "title_cell": "Table of Contents",
   "title_sidebar": "Contents",
   "toc_cell": false,
   "toc_position": {},
   "toc_section_display": true,
   "toc_window_display": false
  }
 },
 "nbformat": 4,
 "nbformat_minor": 5
}
